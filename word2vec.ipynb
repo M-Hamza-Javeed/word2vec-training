{
 "cells": [
  {
   "cell_type": "code",
   "execution_count": 57,
   "metadata": {},
   "outputs": [],
   "source": [
    "import gensim\n",
    "from sklearn.metrics.pairwise import cosine_similarity\n",
    "from pyemd import emd\n",
    "import nltk\n",
    "from sklearn.metrics import jaccard_score\n",
    "from nltk.stem.wordnet import WordNetLemmatizer\n",
    "from nltk.corpus import stopwords\n",
    "from nltk.tag import pos_tag\n",
    "import re , string"
   ]
  },
  {
   "cell_type": "code",
   "execution_count": 58,
   "metadata": {},
   "outputs": [],
   "source": [
    "from gensim.models.word2vec import Word2Vec\n",
    "model = gensim.models.Word2Vec.load('.\\model.w2v')"
   ]
  },
  {
   "cell_type": "code",
   "execution_count": 59,
   "metadata": {},
   "outputs": [
    {
     "data": {
      "text/plain": [
       "[('marchapril', 0.6924648284912109),\n",
       " ('competencies', 0.6902240514755249),\n",
       " ('site', 0.6634171605110168),\n",
       " ('web', 0.6494512557983398),\n",
       " ('interpersonal', 0.6316547989845276),\n",
       " ('find', 0.6259588003158569),\n",
       " ('ama', 0.6175143122673035),\n",
       " ('conceptual', 0.6166692972183228),\n",
       " ('survey', 0.6149014234542847),\n",
       " ('american', 0.5683767199516296)]"
      ]
     },
     "execution_count": 59,
     "metadata": {},
     "output_type": "execute_result"
    }
   ],
   "source": [
    "model.wv.most_similar(\"managerial\")"
   ]
  },
  {
   "cell_type": "markdown",
   "metadata": {},
   "source": [
    "## Sklearn Word2Vec-Cosine sentence similarity"
   ]
  },
  {
   "cell_type": "code",
   "execution_count": 60,
   "metadata": {},
   "outputs": [],
   "source": [
    "import numpy as np\n",
    "def preproc_data(sent, model):\n",
    "    vec_sent = []\n",
    "    for i,word in enumerate(sent):\n",
    "        try:\n",
    "            vec_sent.append(model.wv[word])\n",
    "        except:\n",
    "            pass\n",
    "    vec_sent = sum(np.asarray(vec_sent))\n",
    "    result = vec_sent.reshape(1,-1)\n",
    "    return result"
   ]
  },
  {
   "cell_type": "code",
   "execution_count": 69,
   "metadata": {},
   "outputs": [],
   "source": [
    "sent1=\"Someone who work of other organization so that organizational goals can be accomplished.\"\n",
    "sent2=\"Someone who vectoas and oversees the work of other people so that organizational goals can be accomplished.\""
   ]
  },
  {
   "cell_type": "code",
   "execution_count": 70,
   "metadata": {},
   "outputs": [],
   "source": [
    "def remove_noise(tweet_tokens,stop_words):\n",
    "    cleaned_tokens = [];\n",
    "    for token, tag in pos_tag(tweet_tokens):\n",
    "        token = re.sub(\"[^a-zA-z]\",\"\", token)\n",
    "        \n",
    "        if len(token)<=1 : token='' \n",
    "        \n",
    "        if tag.startswith(\"NN\"): \n",
    "            pos = 'n'\n",
    "        elif tag.startswith('VB'):\n",
    "            pos = 'v'\n",
    "        else:\n",
    "            pos = 'a'\n",
    "        \n",
    "        lemmatizer = WordNetLemmatizer()      \n",
    "        token = lemmatizer.lemmatize(token, pos)\n",
    "            \n",
    "        if len(token) > 0 and token not in string.punctuation and token.lower() not in stop_words:\n",
    "            cleaned_tokens.append(token.lower())\n",
    "             \n",
    "    return cleaned_tokens"
   ]
  },
  {
   "cell_type": "code",
   "execution_count": 71,
   "metadata": {},
   "outputs": [
    {
     "name": "stdout",
     "output_type": "stream",
     "text": [
      "Someone who work of other organization so that organizational goals can be accomplished.\n",
      "['someone', 'work', 'organization', 'organizational', 'goal', 'accomplished']\n",
      "\n",
      "\n",
      "Someone who vectoas and oversees the work of other people so that organizational goals can be accomplished.\n",
      "['someone', 'vectoas', 'oversee', 'work', 'people', 'organizational', 'goal', 'accomplished']\n"
     ]
    }
   ],
   "source": [
    "sen1=remove_noise(sent1.split(),stopwords.words('english'))\n",
    "sen2=remove_noise(sent2.split(),stopwords.words('english'))\n",
    "print(sent1)\n",
    "print(sen1)\n",
    "print(\"\\n\")\n",
    "print(sent2)\n",
    "print(sen2)"
   ]
  },
  {
   "cell_type": "code",
   "execution_count": 76,
   "metadata": {},
   "outputs": [],
   "source": [
    "try:\n",
    "    w2v_sent1 = preproc_data(sen1,model)\n",
    "    w2v_sent2 = preproc_data(sen2,model)\n",
    "except:\n",
    "    print(\"Error\")\n",
    "    pass\n",
    "    "
   ]
  },
  {
   "cell_type": "markdown",
   "metadata": {},
   "source": [
    "### Applying Similarity"
   ]
  },
  {
   "cell_type": "code",
   "execution_count": 77,
   "metadata": {},
   "outputs": [
    {
     "name": "stdout",
     "output_type": "stream",
     "text": [
      "Cosine  Similarity  : 0.8804785\n",
      "Jaccard Similarity  : 0.46153846153846156\n",
      "Word Mover Distance : inf\n"
     ]
    }
   ],
   "source": [
    "print(\"Cosine  Similarity  :\",cosine_similarity(w2v_sent1,w2v_sent2)[0][0])\n",
    "print(\"Jaccard Similarity  :\",gensim.matutils.jaccard('what is iron','what is metal'))\n",
    "print(\"Word Mover Distance :\",model.wv.wmdistance(sent1,sent2))"
   ]
  },
  {
   "cell_type": "code",
   "execution_count": null,
   "metadata": {},
   "outputs": [],
   "source": []
  },
  {
   "cell_type": "code",
   "execution_count": null,
   "metadata": {},
   "outputs": [],
   "source": []
  },
  {
   "cell_type": "code",
   "execution_count": null,
   "metadata": {},
   "outputs": [],
   "source": []
  }
 ],
 "metadata": {
  "kernelspec": {
   "display_name": "Python 3",
   "language": "python",
   "name": "python3"
  },
  "language_info": {
   "codemirror_mode": {
    "name": "ipython",
    "version": 3
   },
   "file_extension": ".py",
   "mimetype": "text/x-python",
   "name": "python",
   "nbconvert_exporter": "python",
   "pygments_lexer": "ipython3",
   "version": "3.7.6"
  }
 },
 "nbformat": 4,
 "nbformat_minor": 1
}
